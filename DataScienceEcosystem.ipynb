{
 "cells": [
  {
   "cell_type": "markdown",
   "id": "b5852925-e5c8-4edb-beda-b6af33501ace",
   "metadata": {
    "tags": []
   },
   "source": [
    "#Data Science Tools and Ecosystem"
   ]
  },
  {
   "cell_type": "markdown",
   "id": "a611d777-b5b7-433d-9e1c-2972c26ddf42",
   "metadata": {},
   "source": [
    "In this notebook, Data Science Tools and Ecosystem are summarized."
   ]
  },
  {
   "cell_type": "code",
   "execution_count": 11,
   "id": "a578e333-4b85-41b5-8e89-24e175cd6627",
   "metadata": {
    "tags": []
   },
   "outputs": [
    {
     "name": "stdout",
     "output_type": "stream",
     "text": [
      "Some of the popular languages that Data Scientists use are:\n",
      "python\n",
      "R\n",
      "Java Script\n"
     ]
    }
   ],
   "source": [
    "A=[\"python\", \"R\",\"Java Script\"]\n",
    "print(\"Some of the popular languages that Data Scientists use are:\")\n",
    "print(A[0])\n",
    "print(A[1])\n",
    "print(A[2])"
   ]
  },
  {
   "cell_type": "code",
   "execution_count": 12,
   "id": "64394ae8-eb15-4194-bc16-e43b33498fa9",
   "metadata": {},
   "outputs": [
    {
     "name": "stdout",
     "output_type": "stream",
     "text": [
      "Some of the commonly used libraries used by Data Scientists include:\n",
      "tensorflow\n",
      "numpy\n",
      "pandas\n"
     ]
    }
   ],
   "source": [
    "A=[\"tensorflow\", \"numpy\",\"pandas\"]\n",
    "print(\"Some of the commonly used libraries used by Data Scientists include:\")\n",
    "print(A[0])\n",
    "print(A[1])\n",
    "print(A[2])\n"
   ]
  },
  {
   "cell_type": "markdown",
   "id": "5baa6deb-657e-4365-a303-cf9e9472220f",
   "metadata": {},
   "source": [
    "print([\"Data Science Tools\"],[\"jupyter\"],[\"colab\"],[\"pycharm commuity\"])"
   ]
  },
  {
   "cell_type": "code",
   "execution_count": 22,
   "id": "f5a0ec51-1c09-4485-ac7b-5d715062b9a0",
   "metadata": {},
   "outputs": [
    {
     "name": "stdout",
     "output_type": "stream",
     "text": [
      "[['Data Science Tools'], ['jupyter'], ['colab'], ['pycharm commuity']]\n"
     ]
    }
   ],
   "source": [
    "print([[\"Data Science Tools\"],[\"jupyter\"],[\"colab\"],[\"pycharm commuity\"]])"
   ]
  },
  {
   "cell_type": "markdown",
   "id": "1d2c1db4-8047-46cd-ab1a-07bebf9d6684",
   "metadata": {
    "tags": []
   },
   "source": [
    "print(\"Below are a few examples of evaluating arithmetic expressions in Python\")\n",
    "a=5\n",
    "b=6\n",
    "sum=a+b\n",
    "print(sum)"
   ]
  },
  {
   "cell_type": "markdown",
   "id": "41847763-1a4c-481c-9642-291b61bd92a9",
   "metadata": {},
   "source": [
    "###\"Below are a few examples of evaluating arithmetic expressions in Python\""
   ]
  },
  {
   "cell_type": "code",
   "execution_count": 24,
   "id": "61df5a94-c788-4792-a69c-3fd1a94a4936",
   "metadata": {
    "tags": []
   },
   "outputs": [
    {
     "name": "stdout",
     "output_type": "stream",
     "text": [
      "11\n"
     ]
    }
   ],
   "source": [
    "a=5 \n",
    "b=6 \n",
    "sum=a+b\n",
    "print(sum)"
   ]
  },
  {
   "cell_type": "code",
   "execution_count": null,
   "id": "aa3ee904-7ff3-4f7c-8f5f-e40536bc2b23",
   "metadata": {},
   "outputs": [],
   "source": [
    "/*This a simple arithmetic expression to mutiply then add integers*\n",
    "(3*4)+5"
   ]
  }
 ],
 "metadata": {
  "kernelspec": {
   "display_name": "Python",
   "language": "python",
   "name": "conda-env-python-py"
  },
  "language_info": {
   "codemirror_mode": {
    "name": "ipython",
    "version": 3
   },
   "file_extension": ".py",
   "mimetype": "text/x-python",
   "name": "python",
   "nbconvert_exporter": "python",
   "pygments_lexer": "ipython3",
   "version": "3.7.12"
  }
 },
 "nbformat": 4,
 "nbformat_minor": 5
}
